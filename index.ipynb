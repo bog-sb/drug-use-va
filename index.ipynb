{
 "cells": [
  {
   "cell_type": "markdown",
   "metadata": {},
   "source": [
    "## Clustering\n",
    "\n",
    "First step twoards implementing our cluster visualization is importing the needed libraries into the notebook."
   ]
  },
  {
   "cell_type": "code",
   "execution_count": 17,
   "metadata": {
    "collapsed": false
   },
   "outputs": [],
   "source": [
    "#disable some annoying warning\n",
    "import warnings\n",
    "warnings.filterwarnings('ignore', category=FutureWarning)\n",
    "\n",
    "%matplotlib inline\n",
    "import numpy as np\n",
    "import pandas as pd\n",
    "import seaborn as sns\n",
    "import matplotlib.pyplot as plt\n",
    "\n",
    "from sklearn.cluster import KMeans, SpectralClustering\n",
    "from sklearn import manifold\n",
    "import matplotlib.patches as mpatches\n",
    "\n",
    "import ipywidgets\n",
    "from ipywidgets import interact, interactive, fixed"
   ]
  },
  {
   "cell_type": "markdown",
   "metadata": {},
   "source": [
    "Next we load the data."
   ]
  },
  {
   "cell_type": "code",
   "execution_count": 9,
   "metadata": {
    "collapsed": false
   },
   "outputs": [
    {
     "data": {
      "text/plain": [
       "(500, 3)"
      ]
     },
     "execution_count": 9,
     "metadata": {},
     "output_type": "execute_result"
    }
   ],
   "source": [
    "#load the iris datasets\n",
    "#import sklearn.datasets\n",
    "#data = sklearn.datasets.load_iris()\n",
    "#data.data.shape\n",
    "\n",
    "#load the data\n",
    "data = pd.read_csv('data/34933-0001-Data.tsv', sep=\"\\t\")[[\"IRALCFY\",\"IRMJFY\",\"IRCOCFY\"]][:500]\n",
    "#data = pd.read_csv('data/selection.tsv', sep=\"\\t\")\n",
    "#data.index = data.pop(\"CASEID\")\n",
    "data.shape\n",
    "#columns=[[\"DEPNDALC\", \"DEPNDCOC\", \"DEPNDHAL\", \"DEPNDHER\",\"DEPNDMRJ\"]]"
   ]
  },
  {
   "cell_type": "markdown",
   "metadata": {},
   "source": [
    "We define the following function for displaying the cluster plots. This will be used by the overview view of the cluster and also by the detail view."
   ]
  },
  {
   "cell_type": "code",
   "execution_count": 18,
   "metadata": {
    "collapsed": false
   },
   "outputs": [],
   "source": [
    "def display_cluster_plot(param, cluster_algo, data, pos):\n",
    "    algorithms = {\n",
    "        \"KMeans\": KMeans(n_clusters=param, random_state = 102),\n",
    "        \"Spectral\": SpectralClustering(n_clusters=param, random_state = 50)\n",
    "          }\n",
    "    prediction = algorithms.get(cluster_algo).fit_predict(data)\n",
    "    \n",
    "    plt.figure(figsize=(10, 8))\n",
    "    plt.scatter(pos[:, 0], pos[:, 1], s=20, c=[colors[i] for i in prediction])\n",
    "    return prediction"
   ]
  },
  {
   "cell_type": "markdown",
   "metadata": {},
   "source": [
    "Next we prepare for the clustering:\n",
    " - we load the color pallete\n",
    " - we use MDS as a dimmension reduction technique for reducing the data to 2 dimmensions. This is needed for plotting the data in a scatter plot(2D)."
   ]
  },
  {
   "cell_type": "code",
   "execution_count": 19,
   "metadata": {
    "collapsed": false
   },
   "outputs": [
    {
     "name": "stderr",
     "output_type": "stream",
     "text": [
      "C:\\Anaconda3\\lib\\site-packages\\matplotlib\\__init__.py:892: UserWarning: axes.color_cycle is deprecated and replaced with axes.prop_cycle; please use the latter.\n",
      "  warnings.warn(self.msg_depr % (key, alt_key))\n"
     ]
    }
   ],
   "source": [
    "colors = sns.color_palette()\n",
    "\n",
    "#Dimension reduction using MDS\n",
    "mds = manifold.MDS(n_components=2, random_state=5)\n",
    "#fit the model and get the embedded coordinates\n",
    "pos = mds.fit(data).embedding_"
   ]
  },
  {
   "cell_type": "markdown",
   "metadata": {},
   "source": [
    "### The overview cluster plot\n",
    "We now create the first interactive plot. We ise @interact annotation for making the plot interactive. The @interact parameters are the parameters used for clustering(i.e. number of clusters, cluster algorithm)."
   ]
  },
  {
   "cell_type": "code",
   "execution_count": 20,
   "metadata": {
    "collapsed": false,
    "scrolled": false
   },
   "outputs": [
    {
     "data": {
      "image/png": "[encoded data removed]",
      "text/plain": [
       "<matplotlib.figure.Figure at 0x2739788e860>"
      ]
     },
     "metadata": {},
     "output_type": "display_data"
    }
   ],
   "source": [
    "#global state\n",
    "state ={}\n",
    "\n",
    "@interact(cluster_count = (1,6), cluster_algo=[\"KMeans\", \"Spectral\"])\n",
    "def show_cluster(cluster_count, cluster_algo):\n",
    "    prediction = display_cluster_plot(cluster_count, cluster_algo, data, pos)       \n",
    "    state[\"clusters\"]=prediction\n",
    "    state[\"cluster_count\"] = cluster_count"
   ]
  },
  {
   "cell_type": "markdown",
   "metadata": {},
   "source": [
    "### The detail cluster plot\n",
    "For this, we use the cluster prediction from the overciew plot. We use a slider for selecting the index of the cluster from the overview plot that we want to analyze in more detail. Again we have controls for the 2 clustering parameters: cluster count and cluster algorithm."
   ]
  },
  {
   "cell_type": "code",
   "execution_count": 25,
   "metadata": {
    "collapsed": false
   },
   "outputs": [
    {
     "data": {
      "text/html": [
       "<div>\n",
       "<table border=\"1\" class=\"dataframe\">\n",
       "  <thead>\n",
       "    <tr style=\"text-align: right;\">\n",
       "      <th></th>\n",
       "      <th>IRALCFY</th>\n",
       "      <th>IRMJFY</th>\n",
       "      <th>IRCOCFY</th>\n",
       "    </tr>\n",
       "  </thead>\n",
       "  <tbody>\n",
       "    <tr>\n",
       "      <th>0</th>\n",
       "      <td>993</td>\n",
       "      <td>991</td>\n",
       "      <td>991</td>\n",
       "    </tr>\n",
       "  </tbody>\n",
       "</table>\n",
       "</div>"
      ],
      "text/plain": [
       "   IRALCFY  IRMJFY  IRCOCFY\n",
       "0      993     991      991"
      ]
     },
     "execution_count": 25,
     "metadata": {},
     "output_type": "execute_result"
    }
   ],
   "source": []
  },
  {
   "cell_type": "code",
   "execution_count": 30,
   "metadata": {
    "collapsed": false,
    "scrolled": false
   },
   "outputs": [
    {
     "data": {
      "image/png": "[encoded data removed]",
      "text/plain": [
       "<matplotlib.figure.Figure at 0x273972e4208>"
      ]
     },
     "metadata": {},
     "output_type": "display_data"
    }
   ],
   "source": [
    "def get_detail_pos(prediction, param):\n",
    "    detail_pos = []\n",
    "    for i in range(prediction.size):\n",
    "        if prediction[i] == param:\n",
    "            detail_pos.append(pos[i])\n",
    "    return np.array(detail_pos)\n",
    "\n",
    "def get_detail_data(prediction, param):\n",
    "    detail_data = []\n",
    "    data_as_matrix = data.as_matrix()\n",
    "    for i in range(prediction.size):\n",
    "        if prediction[i] == param:\n",
    "            detail_data.append(data_as_matrix[i])\n",
    "    return detail_data\n",
    "\n",
    "@interact(cluster_idx=(0,state[\"cluster_count\"]-1), cluster_param=ipywidgets.IntText(value=2), cluster_algo=[\"KMeans\", \"Spectral\"])\n",
    "def show_detail_cluster(cluster_idx, cluster_param ,cluster_algo):\n",
    "    prediction = state[\"clusters\"]\n",
    "    detail_pos = get_detail_pos(prediction, cluster_idx)\n",
    "    detail_data =  get_detail_data(prediction, cluster_idx)\n",
    "    display_cluster_plot(cluster_param, cluster_algo, detail_data, detail_pos) \n",
    "    "
   ]
  },
  {
   "cell_type": "code",
   "execution_count": null,
   "metadata": {
    "collapsed": true
   },
   "outputs": [],
   "source": []
  }
 ],
 "metadata": {
  "kernelspec": {
   "display_name": "Python 3",
   "language": "python",
   "name": "python3"
  },
  "language_info": {
   "codemirror_mode": {
    "name": "ipython",
    "version": 3
   },
   "file_extension": ".py",
   "mimetype": "text/x-python",
   "name": "python",
   "nbconvert_exporter": "python",
   "pygments_lexer": "ipython3",
   "version": "3.5.1"
  }
 },
 "nbformat": 4,
 "nbformat_minor": 0
}
